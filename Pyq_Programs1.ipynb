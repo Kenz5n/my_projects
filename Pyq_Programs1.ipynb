{
  "nbformat": 4,
  "nbformat_minor": 0,
  "metadata": {
    "colab": {
      "provenance": [],
      "authorship_tag": "ABX9TyPtQEijF5jjeI5KUS+nNxQJ",
      "include_colab_link": true
    },
    "kernelspec": {
      "name": "python3",
      "display_name": "Python 3"
    },
    "language_info": {
      "name": "python"
    }
  },
  "cells": [
    {
      "cell_type": "markdown",
      "metadata": {
        "id": "view-in-github",
        "colab_type": "text"
      },
      "source": [
        "<a href=\"https://colab.research.google.com/github/Kenz5n/my_projects/blob/main/Pyq_Programs1.ipynb\" target=\"_parent\"><img src=\"https://colab.research.google.com/assets/colab-badge.svg\" alt=\"Open In Colab\"/></a>"
      ]
    },
    {
      "cell_type": "markdown",
      "source": [
        "Q1. The population of a city in a census taken once in ten years is given\n",
        "below. Estimate the population in the years 1925, 1975 and 1984.\n",
        "Year:                   1921 1931 1941 1951 1961 1971 1981\n",
        "Population in thousands: 35   42   58   84   120  165  220"
      ],
      "metadata": {
        "id": "dshOFtbGvHzE"
      }
    },
    {
      "cell_type": "code",
      "source": [
        "import numpy as np\n",
        "\n",
        "# Function to generate forward difference table\n",
        "def forward_difference_table(y_values):\n",
        "    n = len(y_values)\n",
        "    table = np.zeros((n, n))\n",
        "    table[:, 0] = y_values  # Fill the first column with y-values\n",
        "\n",
        "    for col in range(1, n):\n",
        "        for row in range(n - col):\n",
        "            table[row][col] = table[row + 1][col - 1] - table[row][col - 1]\n",
        "    return table\n",
        "\n",
        "# Function to calculate factorial\n",
        "def factorial(n):\n",
        "    return 1 if n == 0 else n * factorial(n - 1)\n",
        "\n",
        "# Newton's Forward Interpolation\n",
        "def newton_forward_interpolation(x_values, y_values, x_to_find):\n",
        "    n = len(x_values)\n",
        "    h = x_values[1] - x_values[0]  # Assumption: uniform spacing\n",
        "    u = (x_to_find - x_values[0]) / h\n",
        "\n",
        "    table = forward_difference_table(y_values)\n",
        "    result = y_values[0]\n",
        "\n",
        "    for i in range(1, n):\n",
        "        u_product = 1\n",
        "        for j in range(i):\n",
        "            u_product *= (u - j)\n",
        "        result += (u_product * table[0][i]) / factorial(i)\n",
        "\n",
        "    return result\n",
        "\n",
        "# Data\n",
        "x_values = np.array([1921, 1931, 1941, 1951, 1961, 1971, 1981])\n",
        "y_values = np.array([35, 42, 58, 84, 120, 165, 220])\n",
        "\n",
        "# Years to estimate population\n",
        "years_to_estimate = [1925, 1975, 1984]\n",
        "\n",
        "# Estimate populations\n",
        "for year in years_to_estimate:\n",
        "    estimated_population = newton_forward_interpolation(x_values, y_values, year)\n",
        "    print(f\"Estimated population in {year}: {estimated_population:.2f} thousand\")\n"
      ],
      "metadata": {
        "id": "iTHlWXWZvJdy",
        "colab": {
          "base_uri": "https://localhost:8080/"
        },
        "outputId": "2383fa10-4b98-4b2f-9d8c-038598044553"
      },
      "execution_count": null,
      "outputs": [
        {
          "output_type": "stream",
          "name": "stdout",
          "text": [
            "Estimated population in 1925: 36.76 thousand\n",
            "Estimated population in 1975: 185.56 thousand\n",
            "Estimated population in 1984: 239.45 thousand\n"
          ]
        }
      ]
    },
    {
      "cell_type": "markdown",
      "source": [
        "Q2. A rocket is launched from the ground. Its acceleration measured every\n",
        "5 seconds is tabulated below. Find the velocity and the position of the\n",
        "rocket at t = 40 seconds.\n",
        "t :    0   5     10    15    20    25    30    35   40\n",
        "a(t): 40 45.25 48.50 51.25 54.35 59.48 61.50 64.30 68.70\n",
        "\n"
      ],
      "metadata": {
        "id": "Z6P_dndF66qk"
      }
    },
    {
      "cell_type": "code",
      "source": [
        "# Function to calculate integration using the Trapezoidal Rule\n",
        "def trapezoidal_rule(x_values, y_values):\n",
        "    n = len(x_values)\n",
        "    integral = 0.0\n",
        "    for i in range(n - 1):\n",
        "        h = x_values[i + 1] - x_values[i]\n",
        "        integral += (y_values[i] + y_values[i + 1]) * h / 2.0\n",
        "    return integral\n",
        "\n",
        "# Main program\n",
        "# Data: Time (t) and Acceleration (a(t))\n",
        "t_values = [0, 5, 10, 15, 20, 25, 30, 35, 40]\n",
        "a_values = [40, 45.25, 48.50, 51.25, 54.35, 59.48, 61.50, 64.30, 68.70]\n",
        "\n",
        "# Step 1: Compute velocity using the Trapezoidal Rule\n",
        "# Initial velocity (v0) = 0 (assuming rocket starts from rest)\n",
        "velocity_values = [0.0]  # Start with initial velocity\n",
        "for i in range(1, len(t_values)):\n",
        "    velocity = trapezoidal_rule(t_values[:i + 1], a_values[:i + 1])\n",
        "    velocity_values.append(velocity)\n",
        "\n",
        "# Velocity at t = 40 seconds\n",
        "v_40 = velocity_values[-1]\n",
        "\n",
        "# Step 2: Compute position using the Trapezoidal Rule\n",
        "# Initial position (s0) = 0 (rocket starts from the ground)\n",
        "position_values = [0.0]  # Start with initial position\n",
        "for i in range(1, len(t_values)):\n",
        "    position = trapezoidal_rule(t_values[:i + 1], velocity_values[:i + 1])\n",
        "    position_values.append(position)\n",
        "\n",
        "# Position at t = 40 seconds\n",
        "s_40 = position_values[-1]\n",
        "\n",
        "# Output results\n",
        "print(\"Velocity of the rocket at t = 40 seconds: {:.2f} m/s\".format(v_40))\n",
        "print(\"Position of the rocket at t = 40 seconds: {:.2f} m\".format(s_40))\n",
        "\n",
        "\n",
        "\n",
        "\n"
      ],
      "metadata": {
        "colab": {
          "base_uri": "https://localhost:8080/"
        },
        "id": "HgzDjccI67Dg",
        "outputId": "0d8a19d3-707f-4d00-9335-60fec6e7bd67"
      },
      "execution_count": null,
      "outputs": [
        {
          "output_type": "stream",
          "name": "stdout",
          "text": [
            "Velocity of the rocket at t = 40 seconds: 2194.90 m/s\n",
            "Position of the rocket at t = 40 seconds: 40357.88 m\n"
          ]
        }
      ]
    },
    {
      "cell_type": "code",
      "source": [
        "import numpy as np\n",
        "t = np.array([0, 5, 10, 15, 20, 25, 30, 35, 40])  # Time (seconds)\n",
        "a = np.array([40, 45.25, 48.50, 51.25, 54.35, 59.48, 61.50, 64.30, 68.70])  # Acceleration (m/s^2)\n",
        "\n",
        "v = np.zeros(len(t))  # Initialize velocity array\n",
        "v[0] = 0  # Initial velocity is 0\n",
        "\n",
        "# We use the Trapezoidal rule here to approximate the integral of acceleration to find velocity.\n",
        "for i in range(1, len(t)):\n",
        "  v[i] = v[i - 1] + 0.5 * (a[i - 1] + a[i]) * (t[i] - t[i - 1])\n",
        "\n",
        "s = np.zeros(len(t))  # Initialize position array\n",
        "s[0] = 0  # Initial position is 0\n",
        "\n",
        "# We apply the Trapezoidal rule again to integrate velocity and find position.\n",
        "for i in range(1, len(t)):\n",
        "  s[i] = s[i - 1] + 0.5 * (v[i - 1] + v[i]) * (t[i] - t[i - 1])\n",
        "\n",
        "velocity_at_40 = v[-1]  # Velocity at the last time point (t = 40)\n",
        "position_at_40 = s[-1]  # Position at the last time point (t = 40)\n",
        "\n",
        "print(\"Velocity at t = 40 seconds:\", velocity_at_40, \"m/s\")\n",
        "print(\"Position at t = 40 seconds:\", position_at_40, \"m\")"
      ],
      "metadata": {
        "colab": {
          "base_uri": "https://localhost:8080/"
        },
        "id": "b_uTahjzD2Nk",
        "outputId": "0938f6a5-b5d0-4a4c-d34f-9fa1954a8fe0"
      },
      "execution_count": null,
      "outputs": [
        {
          "output_type": "stream",
          "name": "stdout",
          "text": [
            "Velocity at t = 40 seconds: 2194.9 m/s\n",
            "Position at t = 40 seconds: 40357.875 m\n"
          ]
        }
      ]
    },
    {
      "cell_type": "markdown",
      "source": [
        "Q3. Compute the following integral by probabilistic method (Monte Carlo\n",
        "Integration): limit 0 to 5 integral e^(-x^2) dx."
      ],
      "metadata": {
        "id": "UcyFLSV9F1Bs"
      }
    },
    {
      "cell_type": "code",
      "source": [
        "import numpy as np\n",
        "\n",
        "# Define the function to integrate:\n",
        "def f(x):\n",
        "  return np.exp(-x**2)\n",
        "\n",
        "# Define the integration limits:\n",
        "a = 0 # lower limit\n",
        "b = 5 # upper limit\n",
        "\n",
        "# Generate random samples:\n",
        "n=10000  # Number of random samples\n",
        "x_rand = np.random.uniform(a,b,n)  # Generate N random numbers between a and b\n",
        "\n",
        "# Evaluate the function at random points:\n",
        "y_rand = f(x_rand)\n",
        "\n",
        "# Estimate the integral:\n",
        "integral_estimate = (b-a)*np.mean(y_rand)\n",
        "\n",
        "# Print the result:\n",
        "print(\"Estimated integral:\", integral_estimate)\n",
        "\n",
        "\n",
        "\n",
        "\n",
        "\n"
      ],
      "metadata": {
        "colab": {
          "base_uri": "https://localhost:8080/"
        },
        "id": "8_Wb7TZ1GHpV",
        "outputId": "f70ed03c-8f87-4e21-e15e-154bc17e9c89"
      },
      "execution_count": null,
      "outputs": [
        {
          "output_type": "stream",
          "name": "stdout",
          "text": [
            "Estimated integral: 0.8740411123361833\n"
          ]
        }
      ]
    },
    {
      "cell_type": "markdown",
      "source": [
        "Q4. consider the 5D values of the error function f(x)= er f x = (2/ root pi ) limit 0 to x integral e^(-omega^2) domega namely f(0.25)=0.27633, f(0.5)=0.52050, f(1)= 0.84270. compute f(0.75) using suitable interpolation method."
      ],
      "metadata": {
        "id": "vz0A4JcZezjb"
      }
    },
    {
      "cell_type": "code",
      "source": [
        "import numpy as np\n",
        "\n",
        "# Define the Lagrange Interpolation Formula:\n",
        "def lagrange_interpolation(x_values,y_values,x_to_find):\n",
        "\n",
        "  n = len(x_values)\n",
        "  result = 0.0\n",
        "\n",
        "  for i in range(n):\n",
        "      term = y_values[i]\n",
        "      for j in range (n):\n",
        "          if i != j :\n",
        "             term *= (x_to_find - x_values[j]) / ( x_values[i] - x_values[j])\n",
        "      result += term\n",
        "  return result\n",
        "\n",
        "# nput the data:\n",
        "x_values = np.array([0.25,0.5,1])\n",
        "y_values = np.array([0.27633,0.52050,0.84270])\n",
        "x_to_find = 0.75\n",
        "\n",
        "# Call the interpolation function:\n",
        "value = lagrange_interpolation(x_values,y_values,x_to_find)\n",
        "\n",
        "# Print the result:\n",
        "print(f\"f({x_to_find}) = {value:.5f}\")\n",
        "\n"
      ],
      "metadata": {
        "colab": {
          "base_uri": "https://localhost:8080/"
        },
        "id": "Yqa16qgee0yF",
        "outputId": "eb01e5d4-e1ab-4761-8f0f-63bd942baf10"
      },
      "execution_count": null,
      "outputs": [
        {
          "output_type": "stream",
          "name": "stdout",
          "text": [
            "f(0.75) = 0.70929\n"
          ]
        }
      ]
    },
    {
      "cell_type": "markdown",
      "source": [
        "Q1(sec b). Calculate the most probable speed of a Maxwellian velocity distribution\n",
        "(unnormalised) P(v) = v^2.e^(-v^2)\n",
        "of the particle by using central difference\n",
        "formula of numerical differentiation using δv = 0.1."
      ],
      "metadata": {
        "id": "rAUsMZ7vo49J"
      }
    },
    {
      "cell_type": "code",
      "source": [
        "import numpy as np\n",
        "\n",
        "\n",
        "def p(v) :\n",
        "\n",
        "  return v**2 * np.exp(-v**2)\n",
        "\n",
        "\n",
        "\n",
        "def central_difference (v, delta_v):\n",
        "\n",
        "  return ( (p(v + delta_v) - p(v - delta_v)) / (delta_v * 2) )\n",
        "\n",
        "v = 1\n",
        "delta_v = 0.1\n",
        "\n",
        "while  abs( central_difference ( v, delta_v)) > 1e-10 :\n",
        "  v -= central_difference ( v, delta_v) * 1.0\n",
        "\n",
        "print(f\" probable speed is : {v:.4f}\")\n"
      ],
      "metadata": {
        "colab": {
          "base_uri": "https://localhost:8080/"
        },
        "id": "ujScHrRFpG1Q",
        "outputId": "cabca810-0055-41b0-d8be-44e9b99c373b"
      },
      "execution_count": null,
      "outputs": [
        {
          "output_type": "stream",
          "name": "stdout",
          "text": [
            " probable speed is : 0.0000\n"
          ]
        }
      ]
    },
    {
      "cell_type": "markdown",
      "source": [
        "Q2(sec b). Estimate the first derivative of f(x) = -x^(4)-1.5x^(3)-5x^(2)-2.5x^(2)+12 at\n",
        "x = 0.5 using forward and central difference methods with a step size\n",
        "h = 0.5 in the x-range of 0 to 1 . Calculate errors for each methods"
      ],
      "metadata": {
        "id": "c2jQthQTw6aO"
      }
    },
    {
      "cell_type": "code",
      "source": [
        "import numpy as np\n",
        "\n",
        "def f(x):\n",
        "\n",
        "  return (-x**4) - (1.5*(x**3)) - (5*(x**2)) - (2.5*(x**2)) + 12\n",
        "\n",
        "def exact_derivative(x):\n",
        "\n",
        "  return (-4*(x**3)) - (4.5*(x**2)) - (10*x) - (5*x)\n",
        "\n",
        "x = 0.5\n",
        "h = 0.5\n",
        "\n",
        "forward_derivative = (f(x + h) - f(x)) / h\n",
        "central_derivative = (f(x + h) - f(x - h)) / (2 * h)\n",
        "ext_derivative = exact_derivative(x)\n",
        "\n",
        "forward_error = abs(forward_derivative - ext_derivative)\n",
        "central_error = abs(central_derivative - ext_derivative)\n",
        "\n",
        "print(f\"forward difference derivative : {forward_derivative:.4f}\")\n",
        "print(f\"Central difference derivative: {central_derivative:.4f}\")\n",
        "print(f\"Exact derivative: {ext_derivative:.4f}\")\n",
        "print(f\"Forward difference error: {forward_error:.4f}\")\n",
        "print(f\"Central difference error: {central_error:.4f}\")\n",
        "\n",
        "\n",
        "\n"
      ],
      "metadata": {
        "colab": {
          "base_uri": "https://localhost:8080/"
        },
        "id": "OD9TV6V0x5s2",
        "outputId": "e785e25b-db61-40af-adbf-454e7b7e3da6"
      },
      "execution_count": null,
      "outputs": [
        {
          "output_type": "stream",
          "name": "stdout",
          "text": [
            "forward difference derivative : -15.7500\n",
            "Central difference derivative: -10.0000\n",
            "Exact derivative: -9.1250\n",
            "Forward difference error: 6.6250\n",
            "Central difference error: 0.8750\n"
          ]
        }
      ]
    },
    {
      "cell_type": "markdown",
      "source": [
        "Q3(sec b). Solve the simultaneous differential equations\n",
        "dy/dt+2x=e^(t)\n",
        "dx/dy-2y=1+t\n",
        "given that x(t = 0) = 1 and y(t = 0) = 2 in the interval x = [0, 10]\n",
        "using RK4 method. Plot the solution."
      ],
      "metadata": {
        "id": "1bvWQIDJsC6p"
      }
    },
    {
      "cell_type": "code",
      "source": [
        "import numpy as np\n",
        "import matplotlib.pyplot as plt\n",
        "\n",
        "# Define the system of equations\n",
        "def dydt(t,x,y):\n",
        "  return np.exp(t)-(2*x)\n",
        "\n",
        "def dxdt(t,x,y):\n",
        "  return 1+t+(2*y)\n",
        "\n",
        "# RK4 method implementation\n",
        "def rk4(f1,f2,t0,x0,y0,t_end,h):\n",
        "  t_values=[t0]\n",
        "  x_values=[x0]\n",
        "  y_values=[y0]\n",
        "\n",
        "  t=t0\n",
        "  x=x0\n",
        "  y=y0\n",
        "  while t<t_end:\n",
        "    # Compute RK4 for y\n",
        "    k1_y = h*f1(t, x ,y)\n",
        "    k1_x = h*f2(t, x, y)\n",
        "\n",
        "    k2_y = h * f1(t+h/2, x+k1_x/2, y+k1_y/2)\n",
        "    k2_x = h * f2(t+h/2, x+k1_x/2, y+k1_y/2)\n",
        "\n",
        "    k3_y = h * f1(t+h/2, x+k2_x/2, y+k2_y/2)\n",
        "    k3_x = h * f2(t+h/2, x+k2_x/2, y+k2_y/2)\n",
        "\n",
        "    k4_y = h * f1(t+h, x+k3_x, y+k3_y)\n",
        "    k4_x = h * f2(t+h, x+k3_x, y+k3_y)\n",
        "\n",
        "    y += (k1_y + 2*k2_y + 2*k3_y + k4_y)/6\n",
        "    x += (k1_x + 2*k2_x + 2*k3_x + k4_x)/6\n",
        "    t += h\n",
        "    t_values.append(t)\n",
        "    x_values.append(x)\n",
        "    y_values.append(y)\n",
        "\n",
        "  return t_values,x_values,y_values\n",
        "\n",
        "# Initial conditions and parameters\n",
        "t0=0\n",
        "y0=2\n",
        "x0=1\n",
        "t_end=10\n",
        "h=0.1\n",
        "\n",
        "# Solve the system\n",
        "t_values, x_values, y_values = rk4 (dydt,dxdt,t0,x0,y0,t_end,h)\n",
        "\n",
        "# Plot the results\n",
        "plt.figure(figsize=(10,6))\n",
        "plt.plot(t_values, x_values, label=\"x(t)\", color=\"blue\")\n",
        "plt.plot(t_values, y_values, label=\"y(t)\", color=\"red\")\n",
        "plt.xlabel(\"t\")\n",
        "plt.ylabel(\"x(t), y(t)\")\n",
        "plt.title(\"Solutions to the Differential Equations using RK4\")\n",
        "plt.legend()\n",
        "plt.grid()\n",
        "plt.show()\n",
        "\n"
      ],
      "metadata": {
        "colab": {
          "base_uri": "https://localhost:8080/",
          "height": 564
        },
        "id": "7iROPhKOsvZ7",
        "outputId": "fbda7967-813e-4a0b-929a-3a8a893c4209"
      },
      "execution_count": 4,
      "outputs": [
        {
          "output_type": "display_data",
          "data": {
            "text/plain": [
              "<Figure size 1000x600 with 1 Axes>"
            ],
            "image/png": "[encoded data removed]"
          },
          "metadata": {}
        }
      ]
    },
    {
      "cell_type": "code",
      "source": [
        "import numpy as np\n",
        "import matplotlib.pyplot as plt\n",
        "\n",
        "# Define the system of equations\n",
        "def dydt(t, x, y):\n",
        "    return np.exp(t) - 2 * x\n",
        "\n",
        "def dxdt(t, x, y):\n",
        "    return 1 + t + 2 * y\n",
        "\n",
        "# RK4 method implementation\n",
        "def rk4_system(f1, f2, t0, x0, y0, t_end, h):\n",
        "    t_values = [t0]\n",
        "    x_values = [x0]\n",
        "    y_values = [y0]\n",
        "\n",
        "    t = t0\n",
        "    x = x0\n",
        "    y = y0\n",
        "\n",
        "    while t < t_end:\n",
        "        # Compute RK4 for y\n",
        "        k1_y = h * f1(t, x, y)\n",
        "        k1_x = h * f2(t, x, y)\n",
        "\n",
        "        k2_y = h * f1(t + h / 2, x + k1_x / 2, y + k1_y / 2)\n",
        "        k2_x = h * f2(t + h / 2, x + k1_x / 2, y + k1_y / 2)\n",
        "\n",
        "        k3_y = h * f1(t + h / 2, x + k2_x / 2, y + k2_y / 2)\n",
        "        k3_x = h * f2(t + h / 2, x + k2_x / 2, y + k2_y / 2)\n",
        "\n",
        "        k4_y = h * f1(t + h, x + k3_x, y + k3_y)\n",
        "        k4_x = h * f2(t + h, x + k3_x, y + k3_y)\n",
        "\n",
        "        y += (k1_y + 2 * k2_y + 2 * k3_y + k4_y) / 6\n",
        "        x += (k1_x + 2 * k2_x + 2 * k3_x + k4_x) / 6\n",
        "        t += h\n",
        "\n",
        "        t_values.append(t)\n",
        "        x_values.append(x)\n",
        "        y_values.append(y)\n",
        "\n",
        "    return t_values, x_values, y_values\n",
        "\n",
        "# Initial conditions and parameters\n",
        "t0 = 0\n",
        "x0 = 1\n",
        "y0 = 2\n",
        "t_end = 10\n",
        "h = 0.1\n",
        "\n",
        "# Solve the system\n",
        "t_values, x_values, y_values = rk4_system(dydt, dxdt, t0, x0, y0, t_end, h)\n",
        "\n",
        "# Plot the results\n",
        "plt.figure(figsize=(10, 6))\n",
        "plt.plot(t_values, x_values, label=\"x(t)\", color=\"blue\")\n",
        "plt.plot(t_values, y_values, label=\"y(t)\", color=\"red\")\n",
        "plt.xlabel(\"t\")\n",
        "plt.ylabel(\"x(t), y(t)\")\n",
        "plt.title(\"Solutions to the Differential Equations using RK4\")\n",
        "plt.legend()\n",
        "plt.grid()\n",
        "plt.show()"
      ],
      "metadata": {
        "id": "4nt0QCfi-umc"
      },
      "execution_count": null,
      "outputs": []
    }
  ]
}